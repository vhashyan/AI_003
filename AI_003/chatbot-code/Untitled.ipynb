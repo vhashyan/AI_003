{
 "cells": [
  {
   "cell_type": "code",
   "execution_count": 34,
   "id": "78564a15",
   "metadata": {},
   "outputs": [],
   "source": [
    "from tkinter import*"
   ]
  },
  {
   "cell_type": "code",
   "execution_count": 62,
   "id": "643a079e",
   "metadata": {},
   "outputs": [
    {
     "ename": "SyntaxError",
     "evalue": "unexpected EOF while parsing (2198030323.py, line 55)",
     "output_type": "error",
     "traceback": [
      "\u001b[1;36m  Input \u001b[1;32mIn [62]\u001b[1;36m\u001b[0m\n\u001b[1;33m    Button(register_screen, text=\"Register\", width=10, height=1, bg=\"blue\", command = register\u001b[0m\n\u001b[1;37m                                                                                              ^\u001b[0m\n\u001b[1;31mSyntaxError\u001b[0m\u001b[1;31m:\u001b[0m unexpected EOF while parsing\n"
     ]
    }
   ],
   "source": [
    "def main_account_screen():\n",
    "    global main_screen\n",
    "    main_screen = Tk()   # create a GUI window \n",
    "    main_screen.geometry(\"300x250\") # set the configuration of GUI window \n",
    "    main_screen.title(\"Account Login\") # set the title of GUI window\n",
    "    \n",
    "    \n",
    "def register():\n",
    " \n",
    "# The Toplevel widget work pretty much like Frame,\n",
    "# but it is displayed in a separate, top-level window. \n",
    "#Such windows usually have title bars, borders, and other “window decorations”.\n",
    "# And in argument we have to pass global screen variable\n",
    "    \n",
    "    register_screen = Toplevel(main_screen) \n",
    "    register_screen.title(\"Register\")\n",
    "    register_screen.geometry(\"300x250\")\n",
    "    \n",
    "    global username\n",
    "    global password\n",
    "    global username_entry\n",
    "    global password_entry\n",
    " \n",
    "# Set text variables\n",
    "    username = StringVar()\n",
    "    password = StringVar()\n",
    " \n",
    "# Set label for user's instruction\n",
    "    Label(register_screen, text=\"Please enter details below\", bg=\"blue\").pack()\n",
    "    Label(register_screen, text=\"\").pack()\n",
    "    \n",
    "# Set username label\n",
    "    username_lable = Label(register_screen, text=\"Username * \")\n",
    "    username_lable.pack()\n",
    " \n",
    "# Set username entry\n",
    "# The Entry widget is a standard Tkinter widget used to enter or display a single line of text.\n",
    "    \n",
    "    username_entry = Entry(register_screen, textvariable=username)\n",
    "    username_entry.pack()\n",
    "   \n",
    "# Set password label\n",
    "    password_lable = Label(register_screen, text=\"Password * \")\n",
    "    password_lable.pack()\n",
    "    \n",
    "# Set password entry\n",
    "    password_entry = Entry(register_screen, textvariable=password, show='*')\n",
    "    password_entry.pack()\n",
    "    \n",
    "    Label(register_screen, text=\"\").pack()\n",
    "    \n",
    "# Set register button\n",
    "    Button(register_screen, text=\"Register\", width=10, height=1, bg=\"blue\").pack()\n",
    "    \n",
    "Button(register_screen, text=\"Register\", width=10, height=1, bg=\"blue\", command = register"
   ]
  },
  {
   "cell_type": "code",
   "execution_count": 63,
   "id": "df99b64d",
   "metadata": {},
   "outputs": [
    {
     "ename": "SyntaxError",
     "evalue": "unexpected EOF while parsing (637008342.py, line 20)",
     "output_type": "error",
     "traceback": [
      "\u001b[1;36m  Input \u001b[1;32mIn [63]\u001b[1;36m\u001b[0m\n\u001b[1;33m    Label(register_screen, text=\"Registration Success\", fg=\"green\", font=(\"calibri\", 11)\u001b[0m\n\u001b[1;37m                                                                                        ^\u001b[0m\n\u001b[1;31mSyntaxError\u001b[0m\u001b[1;31m:\u001b[0m unexpected EOF while parsing\n"
     ]
    }
   ],
   "source": [
    "def register_user():\n",
    " \n",
    "# get username and password\n",
    "    username_info = username.get()\n",
    "    password_info = password.get()\n",
    " \n",
    "# Open file in write mode\n",
    "    file = open(username_info, \"w\")\n",
    " \n",
    "# write username and password information into file\n",
    "    file.write(username_info + \"\\n\")\n",
    "    file.write(password_info)\n",
    "    file.close()\n",
    " \n",
    "    username_entry.delete(0, END)\n",
    "    password_entry.delete(0, END)\n",
    " \n",
    "# set a label for showing success information on screen \n",
    "    \n",
    "Label(register_screen, text=\"Registration Success\", fg=\"green\", font=(\"calibri\", 11)"
   ]
  },
  {
   "cell_type": "code",
   "execution_count": 64,
   "id": "37ee3743",
   "metadata": {},
   "outputs": [],
   "source": [
    "    # create a Form label \n",
    "Label(text=\"Choose Login Or Register\", bg=\"blue\", width=\"300\", height=\"2\", font=(\"Calibri\", 13)).pack() \n",
    "Label(text=\"\").pack() \n",
    " \n",
    "# create Login Button \n",
    "Button(text=\"Login\", height=\"2\", width=\"30\").pack() \n",
    "Label(text=\"\").pack() \n",
    " \n",
    "# create a register button\n",
    "Button(text=\"Register\", height=\"2\", width=\"30\", command=register).pack()\n",
    "Label(text=\"\").pack() \n",
    "\n",
    "#chatbot\n",
    "Button(text=\"Chatbot\", height=\"2\", width=\"30\").pack()\n",
    "Label(text=\"\").pack() \n",
    " \n",
    "main_screen.mainloop() # start the GUI\n",
    " \n",
    "main_account_screen() # call the main_account_screen() function"
   ]
  }
 ],
 "metadata": {
  "kernelspec": {
   "display_name": "Python 3 (ipykernel)",
   "language": "python",
   "name": "python3"
  },
  "language_info": {
   "codemirror_mode": {
    "name": "ipython",
    "version": 3
   },
   "file_extension": ".py",
   "mimetype": "text/x-python",
   "name": "python",
   "nbconvert_exporter": "python",
   "pygments_lexer": "ipython3",
   "version": "3.9.12"
  }
 },
 "nbformat": 4,
 "nbformat_minor": 5
}
